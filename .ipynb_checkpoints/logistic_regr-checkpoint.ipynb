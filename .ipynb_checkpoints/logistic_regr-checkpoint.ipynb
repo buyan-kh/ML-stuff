{
 "cells": [
  {
   "cell_type": "code",
   "execution_count": 4,
   "id": "3a641ea1-135a-46f8-b653-713d1517b166",
   "metadata": {},
   "outputs": [],
   "source": [
    "import numpy as np\n",
    "import matplotlib.pyplot as plt"
   ]
  },
  {
   "cell_type": "code",
   "execution_count": 5,
   "id": "e26430bc-1b3c-44f0-83c5-41edcda12ba2",
   "metadata": {},
   "outputs": [
    {
     "name": "stdout",
     "output_type": "stream",
     "text": [
      "Input to exp: [1 2 3]\n",
      "Output of exp: [ 2.71828183  7.3890561  20.08553692]\n",
      "Input to exp: 1\n",
      "Output of exp: 2.718281828459045\n"
     ]
    }
   ],
   "source": [
    "# Input is an array. \n",
    "input_array = np.array([1,2,3])\n",
    "exp_array = np.exp(input_array)\n",
    "\n",
    "print(\"Input to exp:\", input_array)\n",
    "print(\"Output of exp:\", exp_array)\n",
    "\n",
    "# Input is a single number\n",
    "input_val = 1  \n",
    "exp_val = np.exp(input_val)\n",
    "\n",
    "print(\"Input to exp:\", input_val)\n",
    "print(\"Output of exp:\", exp_val)"
   ]
  },
  {
   "cell_type": "code",
   "execution_count": 6,
   "id": "ead60577-91f5-4f3b-8515-43df5a6ff60b",
   "metadata": {},
   "outputs": [],
   "source": [
    "def sigmoid(z):\n",
    "    \"\"\"\n",
    "    Compute the sigmoid of z\n",
    "\n",
    "    Args:\n",
    "        z (ndarray): A scalar, numpy array of any size.\n",
    "\n",
    "    Returns:\n",
    "        g (ndarray): sigmoid(z), with the same shape as z\n",
    "         \n",
    "    \"\"\"\n",
    "\n",
    "    g = 1/(1+np.exp(-z))\n",
    "   \n",
    "    return g\n"
   ]
  },
  {
   "cell_type": "code",
   "execution_count": 10,
   "id": "a277360c-c94f-4f1d-be61-b2ebc518581c",
   "metadata": {},
   "outputs": [
    {
     "name": "stdout",
     "output_type": "stream",
     "text": [
      "Input (z), Output (sigmoid(z))\n",
      "[[-1.00000000e+01  4.53978687e-05]\n",
      " [-9.00000000e+00  1.23394576e-04]\n",
      " [-8.00000000e+00  3.35350130e-04]\n",
      " [-7.00000000e+00  9.11051194e-04]\n",
      " [-6.00000000e+00  2.47262316e-03]\n",
      " [-5.00000000e+00  6.69285092e-03]\n",
      " [-4.00000000e+00  1.79862100e-02]\n",
      " [-3.00000000e+00  4.74258732e-02]\n",
      " [-2.00000000e+00  1.19202922e-01]\n",
      " [-1.00000000e+00  2.68941421e-01]\n",
      " [ 0.00000000e+00  5.00000000e-01]\n",
      " [ 1.00000000e+00  7.31058579e-01]\n",
      " [ 2.00000000e+00  8.80797078e-01]\n",
      " [ 3.00000000e+00  9.52574127e-01]\n",
      " [ 4.00000000e+00  9.82013790e-01]\n",
      " [ 5.00000000e+00  9.93307149e-01]\n",
      " [ 6.00000000e+00  9.97527377e-01]\n",
      " [ 7.00000000e+00  9.99088949e-01]\n",
      " [ 8.00000000e+00  9.99664650e-01]\n",
      " [ 9.00000000e+00  9.99876605e-01]\n",
      " [ 1.00000000e+01  9.99954602e-01]]\n"
     ]
    }
   ],
   "source": [
    "z_tmp = np.arange(-10, 11)\n",
    "z_tmp\n",
    "y = sigmoid(z_tmp)\n",
    "print(\"Input (z), Output (sigmoid(z))\")\n",
    "print(np.c_[z_tmp, y])"
   ]
  },
  {
   "cell_type": "code",
   "execution_count": null,
   "id": "8a7c0966-8df9-46e3-9e4f-033c302a6cd8",
   "metadata": {},
   "outputs": [],
   "source": []
  }
 ],
 "metadata": {
  "kernelspec": {
   "display_name": "Python 3 (ipykernel)",
   "language": "python",
   "name": "python3"
  },
  "language_info": {
   "codemirror_mode": {
    "name": "ipython",
    "version": 3
   },
   "file_extension": ".py",
   "mimetype": "text/x-python",
   "name": "python",
   "nbconvert_exporter": "python",
   "pygments_lexer": "ipython3",
   "version": "3.12.3"
  }
 },
 "nbformat": 4,
 "nbformat_minor": 5
}
