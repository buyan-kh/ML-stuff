{
 "cells": [
  {
   "cell_type": "code",
   "execution_count": null,
   "id": "3a641ea1-135a-46f8-b653-713d1517b166",
   "metadata": {},
   "outputs": [],
   "source": []
  }
 ],
 "metadata": {
  "kernelspec": {
   "display_name": "",
   "name": ""
  },
  "language_info": {
   "name": ""
  }
 },
 "nbformat": 4,
 "nbformat_minor": 5
}
